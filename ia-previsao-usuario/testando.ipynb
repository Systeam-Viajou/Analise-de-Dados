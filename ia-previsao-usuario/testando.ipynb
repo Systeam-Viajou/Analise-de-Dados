{
 "cells": [
  {
   "cell_type": "code",
   "execution_count": 1,
   "metadata": {},
   "outputs": [],
   "source": [
    "import joblib\n",
    "import pandas as pd"
   ]
  },
  {
   "cell_type": "code",
   "execution_count": 2,
   "metadata": {},
   "outputs": [],
   "source": [
    "# Carregando o pipeline e usando para previsões\n",
    "model_pipeline = joblib.load('modelo_com_preprocessador.joblib')"
   ]
  },
  {
   "cell_type": "code",
   "execution_count": 3,
   "metadata": {},
   "outputs": [],
   "source": [
    "# Dados novos para previsão\n",
    "novo_df = pd.DataFrame({\n",
    "    'idade': ['Menor de 18 anos'],\n",
    "    'genero': ['Masculino'],\n",
    "    'municipio_residencia': ['São Paulo'],\n",
    "    'visita_pontos_turisticos': ['Não'],\n",
    "    'participa_eventos': ['Não'],\n",
    "    'frequencia_eventos': ['Mensalmente'],\n",
    "    'tipos_eventos_preferidos': [\"['Culturais', 'Musicais']\"],\n",
    "    'participa_excursões': ['Não'],\n",
    "    'frequencia_tours_virtuais': ['Nunca'],\n",
    "    'frequencia_apps_turismo': ['Nunca'],\n",
    "    'usou_apps_turismo': ['Sim'],\n",
    "    'confianca_avaliacoes': [3],\n",
    "    'interesse_acessibilidade': ['Não me importo'],\n",
    "    'pagaria_por_tour_virtual': ['Sim, se o preço for acessível'],\n",
    "    'descoberta_eventos_atracoes': [\"['Redes Sociais']\"],\n",
    "    'motivacao_uso_app_turismo': ['Encontrar Novas Experiências']\n",
    "})"
   ]
  },
  {
   "cell_type": "code",
   "execution_count": 4,
   "metadata": {},
   "outputs": [
    {
     "name": "stdout",
     "output_type": "stream",
     "text": [
      "Previsões: [1]\n"
     ]
    }
   ],
   "source": [
    "# Previsões usando o pipeline\n",
    "previsoes = model_pipeline.predict(novo_df)\n",
    "print(\"Previsões:\", previsoes)"
   ]
  }
 ],
 "metadata": {
  "kernelspec": {
   "display_name": "Python 3",
   "language": "python",
   "name": "python3"
  },
  "language_info": {
   "codemirror_mode": {
    "name": "ipython",
    "version": 3
   },
   "file_extension": ".py",
   "mimetype": "text/x-python",
   "name": "python",
   "nbconvert_exporter": "python",
   "pygments_lexer": "ipython3",
   "version": "3.11.2"
  }
 },
 "nbformat": 4,
 "nbformat_minor": 2
}
